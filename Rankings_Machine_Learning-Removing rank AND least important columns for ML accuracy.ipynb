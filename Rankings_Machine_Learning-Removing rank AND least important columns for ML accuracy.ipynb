{
 "cells": [
  {
   "cell_type": "code",
   "execution_count": 1,
   "id": "1d078d0a",
   "metadata": {},
   "outputs": [],
   "source": [
    "import pandas as pd\n",
    "import numpy as np\n",
    "from path import Path\n",
    "from sklearn.ensemble import RandomForestRegressor\n",
    "from sklearn.preprocessing import StandardScaler\n",
    "from sklearn.preprocessing import LabelEncoder\n",
    "from sklearn.model_selection import train_test_split\n",
    "from sklearn.metrics import confusion_matrix, accuracy_score, classification_report\n",
    "from sklearn.metrics import r2_score\n"
   ]
  },
  {
   "cell_type": "code",
   "execution_count": 2,
   "id": "02182679",
   "metadata": {},
   "outputs": [
    {
     "data": {
      "text/html": [
       "<div>\n",
       "<style scoped>\n",
       "    .dataframe tbody tr th:only-of-type {\n",
       "        vertical-align: middle;\n",
       "    }\n",
       "\n",
       "    .dataframe tbody tr th {\n",
       "        vertical-align: top;\n",
       "    }\n",
       "\n",
       "    .dataframe thead th {\n",
       "        text-align: right;\n",
       "    }\n",
       "</style>\n",
       "<table border=\"1\" class=\"dataframe\">\n",
       "  <thead>\n",
       "    <tr style=\"text-align: right;\">\n",
       "      <th></th>\n",
       "      <th>UnitID</th>\n",
       "      <th>Rank</th>\n",
       "      <th>Name</th>\n",
       "      <th>8-year graduation rate</th>\n",
       "      <th>Graduation rate rank</th>\n",
       "      <th>Predicted graduation rate based on % of Pell recipients, incoming SATs, etc.</th>\n",
       "      <th>Graduation rate performance rank</th>\n",
       "      <th>Pell/non-Pell graduation gap</th>\n",
       "      <th>Pell graduation gap rank</th>\n",
       "      <th>Number of Pell graduates</th>\n",
       "      <th>...</th>\n",
       "      <th>% of federal work-study funds spent on service</th>\n",
       "      <th>% of federal work-study funds spent on service rank</th>\n",
       "      <th>Earns Carnegie Community Engagement Classification?</th>\n",
       "      <th>Voting engagement points</th>\n",
       "      <th>% of grads with service-oriented majors</th>\n",
       "      <th>Service-oriented majors rank</th>\n",
       "      <th>Social mobility rank</th>\n",
       "      <th>Research rank</th>\n",
       "      <th>Service rank</th>\n",
       "      <th>Unnamed: 40</th>\n",
       "    </tr>\n",
       "  </thead>\n",
       "  <tbody>\n",
       "    <tr>\n",
       "      <th>0</th>\n",
       "      <td>243744</td>\n",
       "      <td>1</td>\n",
       "      <td>Stanford University (CA)</td>\n",
       "      <td>0.963302</td>\n",
       "      <td>6</td>\n",
       "      <td>0.949654</td>\n",
       "      <td>187</td>\n",
       "      <td>-0.021703</td>\n",
       "      <td>46</td>\n",
       "      <td>260.6667</td>\n",
       "      <td>...</td>\n",
       "      <td>0.290903</td>\n",
       "      <td>10</td>\n",
       "      <td>NO</td>\n",
       "      <td>3</td>\n",
       "      <td>0.068361</td>\n",
       "      <td>401</td>\n",
       "      <td>3</td>\n",
       "      <td>2</td>\n",
       "      <td>187</td>\n",
       "      <td>NaN</td>\n",
       "    </tr>\n",
       "    <tr>\n",
       "      <th>1</th>\n",
       "      <td>215062</td>\n",
       "      <td>2</td>\n",
       "      <td>University of Pennsylvania (PA)</td>\n",
       "      <td>0.964294</td>\n",
       "      <td>5</td>\n",
       "      <td>0.938620</td>\n",
       "      <td>149</td>\n",
       "      <td>-0.041917</td>\n",
       "      <td>104</td>\n",
       "      <td>376.6667</td>\n",
       "      <td>...</td>\n",
       "      <td>0.160573</td>\n",
       "      <td>71</td>\n",
       "      <td>YES</td>\n",
       "      <td>6</td>\n",
       "      <td>0.246743</td>\n",
       "      <td>209</td>\n",
       "      <td>2</td>\n",
       "      <td>9</td>\n",
       "      <td>40</td>\n",
       "      <td>NaN</td>\n",
       "    </tr>\n",
       "    <tr>\n",
       "      <th>2</th>\n",
       "      <td>166683</td>\n",
       "      <td>3</td>\n",
       "      <td>MA Institute of Technology (MA)</td>\n",
       "      <td>0.950971</td>\n",
       "      <td>10</td>\n",
       "      <td>0.990213</td>\n",
       "      <td>334</td>\n",
       "      <td>-0.032985</td>\n",
       "      <td>72</td>\n",
       "      <td>182.6667</td>\n",
       "      <td>...</td>\n",
       "      <td>0.065477</td>\n",
       "      <td>332</td>\n",
       "      <td>NO</td>\n",
       "      <td>2</td>\n",
       "      <td>0.000000</td>\n",
       "      <td>436</td>\n",
       "      <td>5</td>\n",
       "      <td>1</td>\n",
       "      <td>324</td>\n",
       "      <td>NaN</td>\n",
       "    </tr>\n",
       "    <tr>\n",
       "      <th>3</th>\n",
       "      <td>186131</td>\n",
       "      <td>4</td>\n",
       "      <td>Princeton University (NJ)</td>\n",
       "      <td>0.976861</td>\n",
       "      <td>2</td>\n",
       "      <td>0.947812</td>\n",
       "      <td>137</td>\n",
       "      <td>-0.052740</td>\n",
       "      <td>132</td>\n",
       "      <td>153.3333</td>\n",
       "      <td>...</td>\n",
       "      <td>0.064500</td>\n",
       "      <td>339</td>\n",
       "      <td>NO</td>\n",
       "      <td>6</td>\n",
       "      <td>0.000000</td>\n",
       "      <td>436</td>\n",
       "      <td>7</td>\n",
       "      <td>6</td>\n",
       "      <td>224</td>\n",
       "      <td>NaN</td>\n",
       "    </tr>\n",
       "    <tr>\n",
       "      <th>4</th>\n",
       "      <td>198419</td>\n",
       "      <td>5</td>\n",
       "      <td>Duke University (NC)</td>\n",
       "      <td>0.954474</td>\n",
       "      <td>9</td>\n",
       "      <td>0.967952</td>\n",
       "      <td>267</td>\n",
       "      <td>-0.014278</td>\n",
       "      <td>36</td>\n",
       "      <td>231.6667</td>\n",
       "      <td>...</td>\n",
       "      <td>0.089523</td>\n",
       "      <td>224</td>\n",
       "      <td>YES</td>\n",
       "      <td>5</td>\n",
       "      <td>0.170164</td>\n",
       "      <td>305</td>\n",
       "      <td>12</td>\n",
       "      <td>15</td>\n",
       "      <td>20</td>\n",
       "      <td>NaN</td>\n",
       "    </tr>\n",
       "  </tbody>\n",
       "</table>\n",
       "<p>5 rows × 41 columns</p>\n",
       "</div>"
      ],
      "text/plain": [
       "   UnitID  Rank                             Name  8-year graduation rate  \\\n",
       "0  243744     1         Stanford University (CA)                0.963302   \n",
       "1  215062     2  University of Pennsylvania (PA)                0.964294   \n",
       "2  166683     3  MA Institute of Technology (MA)                0.950971   \n",
       "3  186131     4        Princeton University (NJ)                0.976861   \n",
       "4  198419     5             Duke University (NC)                0.954474   \n",
       "\n",
       "   Graduation rate rank  \\\n",
       "0                     6   \n",
       "1                     5   \n",
       "2                    10   \n",
       "3                     2   \n",
       "4                     9   \n",
       "\n",
       "   Predicted graduation rate based on % of Pell recipients, incoming SATs, etc.  \\\n",
       "0                                           0.949654                              \n",
       "1                                           0.938620                              \n",
       "2                                           0.990213                              \n",
       "3                                           0.947812                              \n",
       "4                                           0.967952                              \n",
       "\n",
       "   Graduation rate performance rank  Pell/non-Pell graduation gap  \\\n",
       "0                               187                     -0.021703   \n",
       "1                               149                     -0.041917   \n",
       "2                               334                     -0.032985   \n",
       "3                               137                     -0.052740   \n",
       "4                               267                     -0.014278   \n",
       "\n",
       "   Pell graduation gap rank  Number of Pell graduates  ...  \\\n",
       "0                        46                  260.6667  ...   \n",
       "1                       104                  376.6667  ...   \n",
       "2                        72                  182.6667  ...   \n",
       "3                       132                  153.3333  ...   \n",
       "4                        36                  231.6667  ...   \n",
       "\n",
       "   % of federal work-study funds spent on service  \\\n",
       "0                                        0.290903   \n",
       "1                                        0.160573   \n",
       "2                                        0.065477   \n",
       "3                                        0.064500   \n",
       "4                                        0.089523   \n",
       "\n",
       "   % of federal work-study funds spent on service rank  \\\n",
       "0                                                 10     \n",
       "1                                                 71     \n",
       "2                                                332     \n",
       "3                                                339     \n",
       "4                                                224     \n",
       "\n",
       "   Earns Carnegie Community Engagement Classification?  \\\n",
       "0                                                 NO     \n",
       "1                                                YES     \n",
       "2                                                 NO     \n",
       "3                                                 NO     \n",
       "4                                                YES     \n",
       "\n",
       "   Voting engagement points  % of grads with service-oriented majors  \\\n",
       "0                         3                                 0.068361   \n",
       "1                         6                                 0.246743   \n",
       "2                         2                                 0.000000   \n",
       "3                         6                                 0.000000   \n",
       "4                         5                                 0.170164   \n",
       "\n",
       "   Service-oriented majors rank  Social mobility rank  Research rank  \\\n",
       "0                           401                     3              2   \n",
       "1                           209                     2              9   \n",
       "2                           436                     5              1   \n",
       "3                           436                     7              6   \n",
       "4                           305                    12             15   \n",
       "\n",
       "   Service rank  Unnamed: 40  \n",
       "0           187          NaN  \n",
       "1            40          NaN  \n",
       "2           324          NaN  \n",
       "3           224          NaN  \n",
       "4            20          NaN  \n",
       "\n",
       "[5 rows x 41 columns]"
      ]
     },
     "execution_count": 2,
     "metadata": {},
     "output_type": "execute_result"
    }
   ],
   "source": [
    "# Loading data\n",
    "file_path = Path(\"Resources/2022-College-Guide-Main-Rankings-clear.csv\")\n",
    "df_rankings = pd.read_csv(file_path)\n",
    "df_rankings.head()\n"
   ]
  },
  {
   "cell_type": "code",
   "execution_count": 3,
   "id": "8c37b055",
   "metadata": {},
   "outputs": [
    {
     "data": {
      "text/plain": [
       "Index(['UnitID', 'Rank', 'Name', '8-year graduation rate',\n",
       "       'Graduation rate rank',\n",
       "       'Predicted graduation rate based on % of Pell recipients, incoming SATs, etc.',\n",
       "       'Graduation rate performance rank', 'Pell/non-Pell graduation gap',\n",
       "       'Pell graduation gap rank', 'Number of Pell graduates',\n",
       "       'Actual vs. predicted Pell enrollment', 'Pell performance rank',\n",
       "       'Median earnings 10 years after entering college',\n",
       "       'Predicted median earnings 10 years after entering college',\n",
       "       'Earnings performance rank',\n",
       "       'Net price of attendance for families below $75,000 income',\n",
       "       'Net price rank', '% of loan principal remaining 5 years later',\n",
       "       'Repayment rank', 'Predicted principal remaining',\n",
       "       'Repayment rate performance rank', 'Research expenditures, in millions',\n",
       "       'Research expenditures rank', 'Bachelor's to PhD rank',\n",
       "       'Science & engineering PhDs awarded', 'Science & engineering PhDs rank',\n",
       "       'Faculty receiving significant awards', 'Faculty in National Academies',\n",
       "       'Faculty accolades rank', 'AmeriCorps/Peace Corps rank', 'ROTC rank',\n",
       "       '% of federal work-study funds spent on service',\n",
       "       '% of federal work-study funds spent on service rank',\n",
       "       'Earns Carnegie Community Engagement Classification?',\n",
       "       'Voting engagement points', '% of grads with service-oriented majors',\n",
       "       'Service-oriented majors rank', 'Social mobility rank', 'Research rank',\n",
       "       'Service rank', 'Unnamed: 40'],\n",
       "      dtype='object')"
      ]
     },
     "execution_count": 3,
     "metadata": {},
     "output_type": "execute_result"
    }
   ],
   "source": [
    "df_rankings.columns"
   ]
  },
  {
   "cell_type": "code",
   "execution_count": 4,
   "id": "8d8f85f6",
   "metadata": {},
   "outputs": [
    {
     "data": {
      "text/plain": [
       "UnitID                                                                            int64\n",
       "Rank                                                                              int64\n",
       "Name                                                                             object\n",
       "8-year graduation rate                                                          float64\n",
       "Graduation rate rank                                                              int64\n",
       "Predicted graduation rate based on % of Pell recipients, incoming SATs, etc.    float64\n",
       "Graduation rate performance rank                                                  int64\n",
       "Pell/non-Pell graduation gap                                                    float64\n",
       "Pell graduation gap rank                                                          int64\n",
       "Number of Pell graduates                                                        float64\n",
       "Actual vs. predicted Pell enrollment                                            float64\n",
       "Pell performance rank                                                             int64\n",
       "Median earnings 10 years after entering college                                   int64\n",
       "Predicted median earnings 10 years after entering college                       float64\n",
       "Earnings performance rank                                                         int64\n",
       "Net price of attendance for families below $75,000 income                       float64\n",
       "Net price rank                                                                    int64\n",
       "% of loan principal remaining 5 years later                                     float64\n",
       "Repayment rank                                                                    int64\n",
       "Predicted principal remaining                                                   float64\n",
       "Repayment rate performance rank                                                   int64\n",
       "Research expenditures, in millions                                              float64\n",
       "Research expenditures rank                                                        int64\n",
       "Bachelor's to PhD rank                                                            int64\n",
       "Science & engineering PhDs awarded                                              float64\n",
       "Science & engineering PhDs rank                                                   int64\n",
       "Faculty receiving significant awards                                            float64\n",
       "Faculty in National Academies                                                   float64\n",
       "Faculty accolades rank                                                            int64\n",
       "AmeriCorps/Peace Corps rank                                                       int64\n",
       "ROTC rank                                                                         int64\n",
       "% of federal work-study funds spent on service                                  float64\n",
       "% of federal work-study funds spent on service rank                               int64\n",
       "Earns Carnegie Community Engagement Classification?                              object\n",
       "Voting engagement points                                                          int64\n",
       "% of grads with service-oriented majors                                         float64\n",
       "Service-oriented majors rank                                                      int64\n",
       "Social mobility rank                                                              int64\n",
       "Research rank                                                                     int64\n",
       "Service rank                                                                      int64\n",
       "Unnamed: 40                                                                     float64\n",
       "dtype: object"
      ]
     },
     "execution_count": 4,
     "metadata": {},
     "output_type": "execute_result"
    }
   ],
   "source": [
    "df_rankings.dtypes"
   ]
  },
  {
   "cell_type": "code",
   "execution_count": 5,
   "id": "4ffd9e3b",
   "metadata": {},
   "outputs": [
    {
     "data": {
      "text/plain": [
       "UnitID                                                                          442\n",
       "Rank                                                                            442\n",
       "Name                                                                            442\n",
       "8-year graduation rate                                                          442\n",
       "Graduation rate rank                                                            442\n",
       "Predicted graduation rate based on % of Pell recipients, incoming SATs, etc.    442\n",
       "Graduation rate performance rank                                                442\n",
       "Pell/non-Pell graduation gap                                                    442\n",
       "Pell graduation gap rank                                                        442\n",
       "Number of Pell graduates                                                        442\n",
       "Actual vs. predicted Pell enrollment                                            442\n",
       "Pell performance rank                                                           442\n",
       "Median earnings 10 years after entering college                                 442\n",
       "Predicted median earnings 10 years after entering college                       442\n",
       "Earnings performance rank                                                       442\n",
       "Net price of attendance for families below $75,000 income                       442\n",
       "Net price rank                                                                  442\n",
       "% of loan principal remaining 5 years later                                     442\n",
       "Repayment rank                                                                  442\n",
       "Predicted principal remaining                                                   442\n",
       "Repayment rate performance rank                                                 442\n",
       "Research expenditures, in millions                                              442\n",
       "Research expenditures rank                                                      442\n",
       "Bachelor's to PhD rank                                                          442\n",
       "Science & engineering PhDs awarded                                              442\n",
       "Science & engineering PhDs rank                                                 442\n",
       "Faculty receiving significant awards                                            442\n",
       "Faculty in National Academies                                                   442\n",
       "Faculty accolades rank                                                          442\n",
       "AmeriCorps/Peace Corps rank                                                     442\n",
       "ROTC rank                                                                       442\n",
       "% of federal work-study funds spent on service                                  442\n",
       "% of federal work-study funds spent on service rank                             442\n",
       "Earns Carnegie Community Engagement Classification?                             442\n",
       "Voting engagement points                                                        442\n",
       "% of grads with service-oriented majors                                         442\n",
       "Service-oriented majors rank                                                    442\n",
       "Social mobility rank                                                            442\n",
       "Research rank                                                                   442\n",
       "Service rank                                                                    442\n",
       "Unnamed: 40                                                                       7\n",
       "dtype: int64"
      ]
     },
     "execution_count": 5,
     "metadata": {},
     "output_type": "execute_result"
    }
   ],
   "source": [
    "df_rankings.count()"
   ]
  },
  {
   "cell_type": "code",
   "execution_count": 6,
   "id": "bddb3f6e",
   "metadata": {},
   "outputs": [],
   "source": [
    "# Drop last column\n",
    "df_rankings.drop('Unnamed: 40', axis=1, inplace=True)"
   ]
  },
  {
   "cell_type": "code",
   "execution_count": 7,
   "id": "016fadda",
   "metadata": {},
   "outputs": [],
   "source": [
    "# Encoding Carnegie column (0=NO, 1=YES)\n",
    "\n",
    "le = LabelEncoder()\n",
    "df2_rankings = df_rankings.copy()\n",
    "df2_rankings['Earns Carnegie Community Engagement Classification?'] = le.fit_transform(df2_rankings['Earns Carnegie Community Engagement Classification?'])\n"
   ]
  },
  {
   "cell_type": "code",
   "execution_count": 8,
   "id": "a8f75035",
   "metadata": {},
   "outputs": [
    {
     "data": {
      "text/html": [
       "<div>\n",
       "<style scoped>\n",
       "    .dataframe tbody tr th:only-of-type {\n",
       "        vertical-align: middle;\n",
       "    }\n",
       "\n",
       "    .dataframe tbody tr th {\n",
       "        vertical-align: top;\n",
       "    }\n",
       "\n",
       "    .dataframe thead th {\n",
       "        text-align: right;\n",
       "    }\n",
       "</style>\n",
       "<table border=\"1\" class=\"dataframe\">\n",
       "  <thead>\n",
       "    <tr style=\"text-align: right;\">\n",
       "      <th></th>\n",
       "      <th>UnitID</th>\n",
       "      <th>Rank</th>\n",
       "      <th>Name</th>\n",
       "      <th>8-year graduation rate</th>\n",
       "      <th>Graduation rate rank</th>\n",
       "      <th>Predicted graduation rate based on % of Pell recipients, incoming SATs, etc.</th>\n",
       "      <th>Graduation rate performance rank</th>\n",
       "      <th>Pell/non-Pell graduation gap</th>\n",
       "      <th>Pell graduation gap rank</th>\n",
       "      <th>Number of Pell graduates</th>\n",
       "      <th>...</th>\n",
       "      <th>ROTC rank</th>\n",
       "      <th>% of federal work-study funds spent on service</th>\n",
       "      <th>% of federal work-study funds spent on service rank</th>\n",
       "      <th>Earns Carnegie Community Engagement Classification?</th>\n",
       "      <th>Voting engagement points</th>\n",
       "      <th>% of grads with service-oriented majors</th>\n",
       "      <th>Service-oriented majors rank</th>\n",
       "      <th>Social mobility rank</th>\n",
       "      <th>Research rank</th>\n",
       "      <th>Service rank</th>\n",
       "    </tr>\n",
       "  </thead>\n",
       "  <tbody>\n",
       "    <tr>\n",
       "      <th>0</th>\n",
       "      <td>243744</td>\n",
       "      <td>1</td>\n",
       "      <td>Stanford University (CA)</td>\n",
       "      <td>0.963302</td>\n",
       "      <td>6</td>\n",
       "      <td>0.949654</td>\n",
       "      <td>187</td>\n",
       "      <td>-0.021703</td>\n",
       "      <td>46</td>\n",
       "      <td>260.6667</td>\n",
       "      <td>...</td>\n",
       "      <td>308</td>\n",
       "      <td>0.290903</td>\n",
       "      <td>10</td>\n",
       "      <td>0</td>\n",
       "      <td>3</td>\n",
       "      <td>0.068361</td>\n",
       "      <td>401</td>\n",
       "      <td>3</td>\n",
       "      <td>2</td>\n",
       "      <td>187</td>\n",
       "    </tr>\n",
       "    <tr>\n",
       "      <th>1</th>\n",
       "      <td>215062</td>\n",
       "      <td>2</td>\n",
       "      <td>University of Pennsylvania (PA)</td>\n",
       "      <td>0.964294</td>\n",
       "      <td>5</td>\n",
       "      <td>0.938620</td>\n",
       "      <td>149</td>\n",
       "      <td>-0.041917</td>\n",
       "      <td>104</td>\n",
       "      <td>376.6667</td>\n",
       "      <td>...</td>\n",
       "      <td>250</td>\n",
       "      <td>0.160573</td>\n",
       "      <td>71</td>\n",
       "      <td>1</td>\n",
       "      <td>6</td>\n",
       "      <td>0.246743</td>\n",
       "      <td>209</td>\n",
       "      <td>2</td>\n",
       "      <td>9</td>\n",
       "      <td>40</td>\n",
       "    </tr>\n",
       "    <tr>\n",
       "      <th>2</th>\n",
       "      <td>166683</td>\n",
       "      <td>3</td>\n",
       "      <td>MA Institute of Technology (MA)</td>\n",
       "      <td>0.950971</td>\n",
       "      <td>10</td>\n",
       "      <td>0.990213</td>\n",
       "      <td>334</td>\n",
       "      <td>-0.032985</td>\n",
       "      <td>72</td>\n",
       "      <td>182.6667</td>\n",
       "      <td>...</td>\n",
       "      <td>12</td>\n",
       "      <td>0.065477</td>\n",
       "      <td>332</td>\n",
       "      <td>0</td>\n",
       "      <td>2</td>\n",
       "      <td>0.000000</td>\n",
       "      <td>436</td>\n",
       "      <td>5</td>\n",
       "      <td>1</td>\n",
       "      <td>324</td>\n",
       "    </tr>\n",
       "    <tr>\n",
       "      <th>3</th>\n",
       "      <td>186131</td>\n",
       "      <td>4</td>\n",
       "      <td>Princeton University (NJ)</td>\n",
       "      <td>0.976861</td>\n",
       "      <td>2</td>\n",
       "      <td>0.947812</td>\n",
       "      <td>137</td>\n",
       "      <td>-0.052740</td>\n",
       "      <td>132</td>\n",
       "      <td>153.3333</td>\n",
       "      <td>...</td>\n",
       "      <td>34</td>\n",
       "      <td>0.064500</td>\n",
       "      <td>339</td>\n",
       "      <td>0</td>\n",
       "      <td>6</td>\n",
       "      <td>0.000000</td>\n",
       "      <td>436</td>\n",
       "      <td>7</td>\n",
       "      <td>6</td>\n",
       "      <td>224</td>\n",
       "    </tr>\n",
       "    <tr>\n",
       "      <th>4</th>\n",
       "      <td>198419</td>\n",
       "      <td>5</td>\n",
       "      <td>Duke University (NC)</td>\n",
       "      <td>0.954474</td>\n",
       "      <td>9</td>\n",
       "      <td>0.967952</td>\n",
       "      <td>267</td>\n",
       "      <td>-0.014278</td>\n",
       "      <td>36</td>\n",
       "      <td>231.6667</td>\n",
       "      <td>...</td>\n",
       "      <td>45</td>\n",
       "      <td>0.089523</td>\n",
       "      <td>224</td>\n",
       "      <td>1</td>\n",
       "      <td>5</td>\n",
       "      <td>0.170164</td>\n",
       "      <td>305</td>\n",
       "      <td>12</td>\n",
       "      <td>15</td>\n",
       "      <td>20</td>\n",
       "    </tr>\n",
       "  </tbody>\n",
       "</table>\n",
       "<p>5 rows × 40 columns</p>\n",
       "</div>"
      ],
      "text/plain": [
       "   UnitID  Rank                             Name  8-year graduation rate  \\\n",
       "0  243744     1         Stanford University (CA)                0.963302   \n",
       "1  215062     2  University of Pennsylvania (PA)                0.964294   \n",
       "2  166683     3  MA Institute of Technology (MA)                0.950971   \n",
       "3  186131     4        Princeton University (NJ)                0.976861   \n",
       "4  198419     5             Duke University (NC)                0.954474   \n",
       "\n",
       "   Graduation rate rank  \\\n",
       "0                     6   \n",
       "1                     5   \n",
       "2                    10   \n",
       "3                     2   \n",
       "4                     9   \n",
       "\n",
       "   Predicted graduation rate based on % of Pell recipients, incoming SATs, etc.  \\\n",
       "0                                           0.949654                              \n",
       "1                                           0.938620                              \n",
       "2                                           0.990213                              \n",
       "3                                           0.947812                              \n",
       "4                                           0.967952                              \n",
       "\n",
       "   Graduation rate performance rank  Pell/non-Pell graduation gap  \\\n",
       "0                               187                     -0.021703   \n",
       "1                               149                     -0.041917   \n",
       "2                               334                     -0.032985   \n",
       "3                               137                     -0.052740   \n",
       "4                               267                     -0.014278   \n",
       "\n",
       "   Pell graduation gap rank  Number of Pell graduates  ...  ROTC rank  \\\n",
       "0                        46                  260.6667  ...        308   \n",
       "1                       104                  376.6667  ...        250   \n",
       "2                        72                  182.6667  ...         12   \n",
       "3                       132                  153.3333  ...         34   \n",
       "4                        36                  231.6667  ...         45   \n",
       "\n",
       "   % of federal work-study funds spent on service  \\\n",
       "0                                        0.290903   \n",
       "1                                        0.160573   \n",
       "2                                        0.065477   \n",
       "3                                        0.064500   \n",
       "4                                        0.089523   \n",
       "\n",
       "   % of federal work-study funds spent on service rank  \\\n",
       "0                                                 10     \n",
       "1                                                 71     \n",
       "2                                                332     \n",
       "3                                                339     \n",
       "4                                                224     \n",
       "\n",
       "   Earns Carnegie Community Engagement Classification?  \\\n",
       "0                                                  0     \n",
       "1                                                  1     \n",
       "2                                                  0     \n",
       "3                                                  0     \n",
       "4                                                  1     \n",
       "\n",
       "   Voting engagement points  % of grads with service-oriented majors  \\\n",
       "0                         3                                 0.068361   \n",
       "1                         6                                 0.246743   \n",
       "2                         2                                 0.000000   \n",
       "3                         6                                 0.000000   \n",
       "4                         5                                 0.170164   \n",
       "\n",
       "   Service-oriented majors rank  Social mobility rank  Research rank  \\\n",
       "0                           401                     3              2   \n",
       "1                           209                     2              9   \n",
       "2                           436                     5              1   \n",
       "3                           436                     7              6   \n",
       "4                           305                    12             15   \n",
       "\n",
       "   Service rank  \n",
       "0           187  \n",
       "1            40  \n",
       "2           324  \n",
       "3           224  \n",
       "4            20  \n",
       "\n",
       "[5 rows x 40 columns]"
      ]
     },
     "execution_count": 8,
     "metadata": {},
     "output_type": "execute_result"
    }
   ],
   "source": [
    "df2_rankings.head()"
   ]
  },
  {
   "cell_type": "code",
   "execution_count": 24,
   "id": "0cb4cf3f",
   "metadata": {},
   "outputs": [
    {
     "data": {
      "text/html": [
       "<div>\n",
       "<style scoped>\n",
       "    .dataframe tbody tr th:only-of-type {\n",
       "        vertical-align: middle;\n",
       "    }\n",
       "\n",
       "    .dataframe tbody tr th {\n",
       "        vertical-align: top;\n",
       "    }\n",
       "\n",
       "    .dataframe thead th {\n",
       "        text-align: right;\n",
       "    }\n",
       "</style>\n",
       "<table border=\"1\" class=\"dataframe\">\n",
       "  <thead>\n",
       "    <tr style=\"text-align: right;\">\n",
       "      <th></th>\n",
       "      <th>8-year graduation rate</th>\n",
       "      <th>Pell/non-Pell graduation gap</th>\n",
       "      <th>Number of Pell graduates</th>\n",
       "      <th>Actual vs. predicted Pell enrollment</th>\n",
       "      <th>Median earnings 10 years after entering college</th>\n",
       "      <th>Net price of attendance for families below $75,000 income</th>\n",
       "      <th>% of loan principal remaining 5 years later</th>\n",
       "      <th>Faculty receiving significant awards</th>\n",
       "    </tr>\n",
       "  </thead>\n",
       "  <tbody>\n",
       "    <tr>\n",
       "      <th>0</th>\n",
       "      <td>0.963302</td>\n",
       "      <td>-0.021703</td>\n",
       "      <td>260.6667</td>\n",
       "      <td>0.038096</td>\n",
       "      <td>97798</td>\n",
       "      <td>1445.8400</td>\n",
       "      <td>0.322153</td>\n",
       "      <td>0.044643</td>\n",
       "    </tr>\n",
       "    <tr>\n",
       "      <th>1</th>\n",
       "      <td>0.964294</td>\n",
       "      <td>-0.041917</td>\n",
       "      <td>376.6667</td>\n",
       "      <td>-0.000590</td>\n",
       "      <td>103246</td>\n",
       "      <td>7368.1700</td>\n",
       "      <td>0.351408</td>\n",
       "      <td>0.019748</td>\n",
       "    </tr>\n",
       "    <tr>\n",
       "      <th>2</th>\n",
       "      <td>0.950971</td>\n",
       "      <td>-0.032985</td>\n",
       "      <td>182.6667</td>\n",
       "      <td>0.076769</td>\n",
       "      <td>111222</td>\n",
       "      <td>3290.8450</td>\n",
       "      <td>0.305619</td>\n",
       "      <td>0.028059</td>\n",
       "    </tr>\n",
       "    <tr>\n",
       "      <th>3</th>\n",
       "      <td>0.976861</td>\n",
       "      <td>-0.052740</td>\n",
       "      <td>153.3333</td>\n",
       "      <td>0.062997</td>\n",
       "      <td>95689</td>\n",
       "      <td>3672.0020</td>\n",
       "      <td>0.360991</td>\n",
       "      <td>0.026616</td>\n",
       "    </tr>\n",
       "    <tr>\n",
       "      <th>4</th>\n",
       "      <td>0.954474</td>\n",
       "      <td>-0.014278</td>\n",
       "      <td>231.6667</td>\n",
       "      <td>0.028513</td>\n",
       "      <td>93115</td>\n",
       "      <td>671.8563</td>\n",
       "      <td>0.361023</td>\n",
       "      <td>0.014617</td>\n",
       "    </tr>\n",
       "  </tbody>\n",
       "</table>\n",
       "</div>"
      ],
      "text/plain": [
       "   8-year graduation rate  Pell/non-Pell graduation gap  \\\n",
       "0                0.963302                     -0.021703   \n",
       "1                0.964294                     -0.041917   \n",
       "2                0.950971                     -0.032985   \n",
       "3                0.976861                     -0.052740   \n",
       "4                0.954474                     -0.014278   \n",
       "\n",
       "   Number of Pell graduates  Actual vs. predicted Pell enrollment  \\\n",
       "0                  260.6667                              0.038096   \n",
       "1                  376.6667                             -0.000590   \n",
       "2                  182.6667                              0.076769   \n",
       "3                  153.3333                              0.062997   \n",
       "4                  231.6667                              0.028513   \n",
       "\n",
       "   Median earnings 10 years after entering college  \\\n",
       "0                                            97798   \n",
       "1                                           103246   \n",
       "2                                           111222   \n",
       "3                                            95689   \n",
       "4                                            93115   \n",
       "\n",
       "   Net price of attendance for families below $75,000 income  \\\n",
       "0                                          1445.8400           \n",
       "1                                          7368.1700           \n",
       "2                                          3290.8450           \n",
       "3                                          3672.0020           \n",
       "4                                           671.8563           \n",
       "\n",
       "   % of loan principal remaining 5 years later  \\\n",
       "0                                     0.322153   \n",
       "1                                     0.351408   \n",
       "2                                     0.305619   \n",
       "3                                     0.360991   \n",
       "4                                     0.361023   \n",
       "\n",
       "   Faculty receiving significant awards  \n",
       "0                              0.044643  \n",
       "1                              0.019748  \n",
       "2                              0.028059  \n",
       "3                              0.026616  \n",
       "4                              0.014617  "
      ]
     },
     "execution_count": 24,
     "metadata": {},
     "output_type": "execute_result"
    }
   ],
   "source": [
    "# Define the features set.\n",
    "X = df2_rankings.copy()\n",
    "\n",
    "# Dropping target columns and unique identifier columns, and ALL RANK COLUMNS and all columns with less than .3% feature\n",
    "#importances in previous iteration\n",
    "X = X.drop(columns=['UnitID', 'Rank', 'Name', 'Graduation rate rank', 'Graduation rate performance rank', 'Pell graduation gap rank', \n",
    "     'Pell performance rank',\n",
    "     'Earnings performance rank',\n",
    "     'Net price rank', 'Repayment rank', 'Repayment rate performance rank',\n",
    "     'Research expenditures rank', \"Bachelor's to PhD rank\",\n",
    "     'Science & engineering PhDs rank', 'Faculty accolades rank', 'AmeriCorps/Peace Corps rank', 'ROTC rank',\n",
    "     '% of federal work-study funds spent on service rank',\n",
    "     'Service-oriented majors rank', 'Social mobility rank', 'Research rank',\n",
    "     'Service rank', 'Voting engagement points', 'Research expenditures, in millions', '% of federal work-study funds spent on service',\n",
    "    '% of grads with service-oriented majors', 'Predicted median earnings 10 years after entering college',\n",
    "    'Earns Carnegie Community Engagement Classification?', 'Science & engineering PhDs awarded',\n",
    "    'Predicted graduation rate based on % of Pell recipients, incoming SATs, etc.',\n",
    "    'Faculty in National Academies', 'Predicted principal remaining'])\n",
    "X.head()\n",
    "\n",
    "#TRY RETAINING ONLY THE RANKINGS?\n"
   ]
  },
  {
   "cell_type": "code",
   "execution_count": 25,
   "id": "36b8433d",
   "metadata": {},
   "outputs": [
    {
     "name": "stdout",
     "output_type": "stream",
     "text": [
      "<class 'pandas.core.frame.DataFrame'>\n",
      "RangeIndex: 442 entries, 0 to 441\n",
      "Data columns (total 8 columns):\n",
      " #   Column                                                     Non-Null Count  Dtype  \n",
      "---  ------                                                     --------------  -----  \n",
      " 0   8-year graduation rate                                     442 non-null    float64\n",
      " 1   Pell/non-Pell graduation gap                               442 non-null    float64\n",
      " 2   Number of Pell graduates                                   442 non-null    float64\n",
      " 3   Actual vs. predicted Pell enrollment                       442 non-null    float64\n",
      " 4   Median earnings 10 years after entering college            442 non-null    int64  \n",
      " 5   Net price of attendance for families below $75,000 income  442 non-null    float64\n",
      " 6   % of loan principal remaining 5 years later                442 non-null    float64\n",
      " 7   Faculty receiving significant awards                       442 non-null    float64\n",
      "dtypes: float64(7), int64(1)\n",
      "memory usage: 27.8 KB\n"
     ]
    }
   ],
   "source": [
    "# Checking datatypes to make sure there are no strings\n",
    "X.info(verbose=True)"
   ]
  },
  {
   "cell_type": "code",
   "execution_count": 26,
   "id": "25668d86",
   "metadata": {},
   "outputs": [
    {
     "data": {
      "text/plain": [
       "array([1, 2, 3, 4, 5], dtype=int64)"
      ]
     },
     "execution_count": 26,
     "metadata": {},
     "output_type": "execute_result"
    }
   ],
   "source": [
    "# Define the target set.\n",
    "y = df2_rankings[\"Rank\"].ravel()\n",
    "y[:5]\n"
   ]
  },
  {
   "cell_type": "code",
   "execution_count": 27,
   "id": "0f43061b",
   "metadata": {},
   "outputs": [],
   "source": [
    "# Splitting into Train and Test sets.\n",
    "X_train, X_test, y_train, y_test = train_test_split(X, y, random_state=78)\n",
    "\n",
    "# Creating a StandardScaler instance.\n",
    "scaler = StandardScaler()\n",
    "\n",
    "# Fitting the Standard Scaler with the training data.\n",
    "X_scaler = scaler.fit(X_train)\n",
    "\n",
    "# Scaling the data.\n",
    "X_train_scaled = X_scaler.transform(X_train)\n",
    "X_test_scaled = X_scaler.transform(X_test)\n"
   ]
  },
  {
   "cell_type": "code",
   "execution_count": 28,
   "id": "a4e5c18a",
   "metadata": {},
   "outputs": [
    {
     "name": "stdout",
     "output_type": "stream",
     "text": [
      "Training Features Shape: (331, 8)\n",
      "Training Labels Shape: (331,)\n",
      "Testing Features Shape: (111, 8)\n",
      "Testing Labels Shape: (111,)\n"
     ]
    }
   ],
   "source": [
    "print('Training Features Shape:', X_train.shape)\n",
    "print('Training Labels Shape:', y_train.shape)\n",
    "print('Testing Features Shape:', X_test.shape)\n",
    "print('Testing Labels Shape:', y_test.shape)"
   ]
  },
  {
   "cell_type": "markdown",
   "id": "e916a22d",
   "metadata": {},
   "source": [
    "## Random Forest Regressor"
   ]
  },
  {
   "cell_type": "code",
   "execution_count": 29,
   "id": "ec732b71",
   "metadata": {},
   "outputs": [],
   "source": [
    "# Instantiate model with 1000 decision trees\n",
    "rf_model = RandomForestRegressor(n_estimators = 1000, random_state = 42)\n",
    "# Train the model on training data\n",
    "rf_model=rf_model.fit(X_train_scaled, y_train)"
   ]
  },
  {
   "cell_type": "code",
   "execution_count": 30,
   "id": "f82126d7",
   "metadata": {},
   "outputs": [],
   "source": [
    "# Making predictions using the testing data.\n",
    "rf_predictions = rf_model.predict(X_test_scaled)\n"
   ]
  },
  {
   "cell_type": "code",
   "execution_count": 31,
   "id": "023ae204",
   "metadata": {},
   "outputs": [
    {
     "name": "stdout",
     "output_type": "stream",
     "text": [
      "The r2 score for this Random Forest Regressor model is: 0.7336103983380635\n"
     ]
    }
   ],
   "source": [
    "# Evaluate the performance with r2 score\n",
    "r2_rf= r2_score(y_test,rf_predictions)\n",
    "print('The r2 score for this Random Forest Regressor model is:', r2_rf)"
   ]
  },
  {
   "cell_type": "code",
   "execution_count": 32,
   "id": "c1df7808",
   "metadata": {},
   "outputs": [
    {
     "name": "stdout",
     "output_type": "stream",
     "text": [
      "Mean Absolute Error: 48.14\n",
      "Accuracy: 59.66 %.\n"
     ]
    }
   ],
   "source": [
    "# Getting accuracy data with Regressor/continuous variable model\n",
    "\n",
    "# Calculate the absolute errors\n",
    "errors = abs(rf_predictions - y_test)\n",
    "# Print out the mean absolute error (mae)\n",
    "print('Mean Absolute Error:', round(np.mean(errors), 2))\n",
    "\n",
    "# Calculate mean absolute percentage error (MAPE)\n",
    "mape = 100 * (errors / y_test)\n",
    "# Calculate and display accuracy\n",
    "accuracy = 100 - np.mean(mape)\n",
    "print('Accuracy:', round(accuracy, 2), '%.')\n"
   ]
  },
  {
   "cell_type": "code",
   "execution_count": 33,
   "id": "04a788c3",
   "metadata": {},
   "outputs": [
    {
     "data": {
      "text/plain": [
       "array([340,  46, 201, 374, 111, 355, 295, 169, 303,  84,  70,  68, 140,\n",
       "       160, 222, 434, 215, 133,   7,  31, 276, 336, 263, 314,  99, 370,\n",
       "       227, 273, 206, 126, 327, 250, 422, 284, 142, 192, 136, 436, 313,\n",
       "       428, 168, 171, 337, 230, 204, 367, 157,  25, 292,  64, 262, 196,\n",
       "         8, 254, 299,  75, 368, 361, 187,  22, 259,  93, 256,  16, 363,\n",
       "       184, 249,  33,  20, 366,   3,  95, 210,  52, 182, 281, 128,  92,\n",
       "       382, 349,  49, 411, 158, 224, 383, 421, 387, 351,  51, 195, 296,\n",
       "        17, 274, 202,  88, 241,  21,  91, 424,  76, 137, 258,  42, 243,\n",
       "       392, 309,  72, 401, 350, 233, 221], dtype=int64)"
      ]
     },
     "execution_count": 33,
     "metadata": {},
     "output_type": "execute_result"
    }
   ],
   "source": [
    "y_test"
   ]
  },
  {
   "cell_type": "code",
   "execution_count": 34,
   "id": "21368bee",
   "metadata": {},
   "outputs": [
    {
     "data": {
      "text/plain": [
       "array([8.71140e+01, 6.81480e+01, 1.32530e+01, 3.00500e+01, 6.92120e+01,\n",
       "       1.45890e+01, 9.63100e+00, 7.01250e+01, 5.32420e+01, 2.39820e+01,\n",
       "       4.10590e+01, 8.71500e+01, 1.28660e+02, 2.55080e+01, 1.17740e+01,\n",
       "       9.38210e+01, 8.70950e+01, 6.56500e+00, 2.29500e+00, 1.27310e+01,\n",
       "       1.64950e+01, 3.00630e+01, 2.51520e+01, 6.79770e+01, 2.90480e+01,\n",
       "       9.47500e+01, 4.47420e+01, 1.43170e+01, 5.90210e+01, 5.63010e+01,\n",
       "       2.13240e+01, 1.89680e+01, 2.37690e+01, 8.50110e+01, 1.01295e+02,\n",
       "       1.15791e+02, 2.83540e+01, 7.92090e+01, 5.70530e+01, 4.51080e+01,\n",
       "       5.13150e+01, 3.84890e+01, 3.99700e+01, 4.23600e+00, 2.50630e+01,\n",
       "       1.20582e+02, 5.55480e+01, 1.51990e+01, 3.19450e+01, 1.66004e+02,\n",
       "       1.38575e+02, 3.67790e+01, 1.01460e+01, 1.12170e+01, 2.29830e+01,\n",
       "       4.02780e+01, 6.66770e+01, 2.80813e+02, 1.02039e+02, 1.15784e+02,\n",
       "       1.86850e+01, 2.52500e+01, 1.72460e+01, 2.55380e+01, 3.64280e+01,\n",
       "       1.10980e+01, 8.89230e+01, 2.65070e+01, 1.03010e+01, 2.09520e+01,\n",
       "       5.49400e+00, 7.58000e+00, 9.73000e-01, 2.88220e+01, 3.06960e+01,\n",
       "       5.42380e+01, 4.66910e+01, 6.27540e+01, 9.24550e+01, 1.46356e+02,\n",
       "       2.48510e+01, 1.32075e+02, 3.72010e+01, 1.38930e+01, 3.54690e+01,\n",
       "       2.80370e+01, 3.42300e+00, 4.22070e+01, 1.05578e+02, 1.00760e+01,\n",
       "       2.19040e+01, 1.50050e+01, 1.13520e+01, 7.36800e+01, 9.88500e+00,\n",
       "       1.04743e+02, 1.49830e+01, 2.40100e+01, 8.49960e+01, 7.21900e+00,\n",
       "       2.22720e+01, 5.01450e+01, 3.94050e+01, 6.00470e+01, 1.86000e-01,\n",
       "       6.66460e+01, 4.79360e+01, 1.77730e+01, 5.58770e+01, 6.17390e+01,\n",
       "       4.02820e+01])"
      ]
     },
     "execution_count": 34,
     "metadata": {},
     "output_type": "execute_result"
    }
   ],
   "source": [
    "errors"
   ]
  },
  {
   "cell_type": "code",
   "execution_count": 35,
   "id": "b982bc75",
   "metadata": {},
   "outputs": [
    {
     "name": "stdout",
     "output_type": "stream",
     "text": [
      "Mean Absolute Error: 48.13762162162161\n",
      "Mean Squared Error: 4143.261319243244\n",
      "Root Mean Squared Error: 64.36817007841098\n"
     ]
    }
   ],
   "source": [
    "from sklearn import metrics\n",
    "# https://machinelearningmastery.com/regression-metrics-for-machine-learning\n",
    "\n",
    "print('Mean Absolute Error:', metrics.mean_absolute_error(y_test, rf_predictions))\n",
    "print('Mean Squared Error:', metrics.mean_squared_error(y_test, rf_predictions))\n",
    "print('Root Mean Squared Error:', np.sqrt(metrics.mean_squared_error(y_test, rf_predictions)))"
   ]
  },
  {
   "cell_type": "code",
   "execution_count": 36,
   "id": "ee7d4ec0",
   "metadata": {},
   "outputs": [],
   "source": [
    "# Other ways of quantifying accuracy\n",
    "\n",
    "\n",
    "# # Find the original feature indices \n",
    "# original_feature_indices = [feature_list.index(feature) for feature in feature_list if feature not in ['ws_1', 'prcp_1', 'snwd_1']]\n",
    "# # Create a test set of the original features\n",
    "# original_test_features = test_features[:, original_feature_indices]\n",
    "# # Make predictions on test data using the model trained on original data\n",
    "# predictions = rf.predict(original_test_features)\n",
    "# # Performance metrics\n",
    "# errors = abs(predictions - test_labels)\n",
    "# print('Metrics for Random Forest Trained on Original Data')\n",
    "# print('Average absolute error:', round(np.mean(errors), 2), 'degrees.')\n"
   ]
  },
  {
   "cell_type": "code",
   "execution_count": 37,
   "id": "0afee35c",
   "metadata": {},
   "outputs": [
    {
     "data": {
      "text/plain": [
       "array([0.19660469, 0.09457081, 0.04310673, 0.05084525, 0.05283517,\n",
       "       0.17063074, 0.08640965, 0.30499696])"
      ]
     },
     "execution_count": 37,
     "metadata": {},
     "output_type": "execute_result"
    }
   ],
   "source": [
    "# Calculate feature importance in the Random Forest model.\n",
    "importances = rf_model.feature_importances_\n",
    "importances\n"
   ]
  },
  {
   "cell_type": "code",
   "execution_count": 38,
   "id": "93ac74da",
   "metadata": {},
   "outputs": [],
   "source": [
    "# #plotting feature importances\n",
    "\n",
    "# # Get numerical feature importances\n",
    "# importances = list(rf_exp.feature_importances_)\n",
    "# # List of tuples with variable and importance\n",
    "# feature_importances = [(feature, round(importance, 2)) for feature, importance in zip(feature_list, importances)]\n",
    "# # Sort the feature importances by most important first\n",
    "# feature_importances = sorted(feature_importances, key = lambda x: x[1], reverse = True)\n",
    "# # Print out the feature and importances \n",
    "# [print('Variable: {:20} Importance: {}'.format(*pair)) for pair in feature_importances]\n",
    "\n",
    "# # list of x locations for plotting\n",
    "# x_values = list(range(len(importances)))\n",
    "# # Make a bar chart\n",
    "# plt.bar(x_values, importances, orientation = 'vertical', color = 'r', edgecolor = 'k', linewidth = 1.2)\n",
    "# # Tick labels for x axis\n",
    "# plt.xticks(x_values, feature_list, rotation='vertical')\n",
    "# # Axis labels and title\n",
    "# plt.ylabel('Importance'); plt.xlabel('Variable'); plt.title('Variable Importances');"
   ]
  },
  {
   "cell_type": "code",
   "execution_count": 39,
   "id": "1f91bee0",
   "metadata": {},
   "outputs": [
    {
     "data": {
      "text/html": [
       "<div>\n",
       "<style scoped>\n",
       "    .dataframe tbody tr th:only-of-type {\n",
       "        vertical-align: middle;\n",
       "    }\n",
       "\n",
       "    .dataframe tbody tr th {\n",
       "        vertical-align: top;\n",
       "    }\n",
       "\n",
       "    .dataframe thead th {\n",
       "        text-align: right;\n",
       "    }\n",
       "</style>\n",
       "<table border=\"1\" class=\"dataframe\">\n",
       "  <thead>\n",
       "    <tr style=\"text-align: right;\">\n",
       "      <th></th>\n",
       "      <th>Importance</th>\n",
       "      <th>Feature</th>\n",
       "    </tr>\n",
       "  </thead>\n",
       "  <tbody>\n",
       "    <tr>\n",
       "      <th>0</th>\n",
       "      <td>0.304997</td>\n",
       "      <td>Faculty receiving significant awards</td>\n",
       "    </tr>\n",
       "    <tr>\n",
       "      <th>1</th>\n",
       "      <td>0.196605</td>\n",
       "      <td>8-year graduation rate</td>\n",
       "    </tr>\n",
       "    <tr>\n",
       "      <th>2</th>\n",
       "      <td>0.170631</td>\n",
       "      <td>Net price of attendance for families below $75...</td>\n",
       "    </tr>\n",
       "    <tr>\n",
       "      <th>3</th>\n",
       "      <td>0.094571</td>\n",
       "      <td>Pell/non-Pell graduation gap</td>\n",
       "    </tr>\n",
       "    <tr>\n",
       "      <th>4</th>\n",
       "      <td>0.086410</td>\n",
       "      <td>% of loan principal remaining 5 years later</td>\n",
       "    </tr>\n",
       "    <tr>\n",
       "      <th>5</th>\n",
       "      <td>0.052835</td>\n",
       "      <td>Median earnings 10 years after entering college</td>\n",
       "    </tr>\n",
       "    <tr>\n",
       "      <th>6</th>\n",
       "      <td>0.050845</td>\n",
       "      <td>Actual vs. predicted Pell enrollment</td>\n",
       "    </tr>\n",
       "    <tr>\n",
       "      <th>7</th>\n",
       "      <td>0.043107</td>\n",
       "      <td>Number of Pell graduates</td>\n",
       "    </tr>\n",
       "  </tbody>\n",
       "</table>\n",
       "</div>"
      ],
      "text/plain": [
       "   Importance                                            Feature\n",
       "0    0.304997               Faculty receiving significant awards\n",
       "1    0.196605                             8-year graduation rate\n",
       "2    0.170631  Net price of attendance for families below $75...\n",
       "3    0.094571                       Pell/non-Pell graduation gap\n",
       "4    0.086410        % of loan principal remaining 5 years later\n",
       "5    0.052835    Median earnings 10 years after entering college\n",
       "6    0.050845               Actual vs. predicted Pell enrollment\n",
       "7    0.043107                           Number of Pell graduates"
      ]
     },
     "execution_count": 39,
     "metadata": {},
     "output_type": "execute_result"
    }
   ],
   "source": [
    "# Sort the features by their importance.\n",
    "sorted_list=sorted(zip(rf_model.feature_importances_, X.columns), reverse=True)\n",
    "sorted_df=pd.DataFrame(sorted_list, columns=['Importance', 'Feature'])\n",
    "sorted_df"
   ]
  },
  {
   "cell_type": "code",
   "execution_count": 40,
   "id": "1b7b5106",
   "metadata": {},
   "outputs": [],
   "source": [
    "sorted_df.to_csv('Feature_Importances_with_all_RANK_and_LEAST_IMPORTANT_features_removed.csv')  "
   ]
  },
  {
   "cell_type": "markdown",
   "id": "534e074d",
   "metadata": {},
   "source": [
    "## Support Vector Regression"
   ]
  },
  {
   "cell_type": "code",
   "execution_count": 41,
   "id": "b83a9620",
   "metadata": {},
   "outputs": [
    {
     "data": {
      "text/plain": [
       "SVR(kernel='poly')"
      ]
     },
     "execution_count": 41,
     "metadata": {},
     "output_type": "execute_result"
    }
   ],
   "source": [
    "# Create a SVM model\n",
    "\n",
    "# Instantiate a SVM model\n",
    "from sklearn.svm import SVR\n",
    "\n",
    "## the kernel is the most important part - try different kernels\n",
    "\n",
    "# Fit the data\n",
    "\n",
    "regressor = SVR(kernel = 'poly')\n",
    "svm_model = regressor.fit(X_train, y_train)\n",
    "svm_model\n"
   ]
  },
  {
   "cell_type": "code",
   "execution_count": 42,
   "id": "5eb48994",
   "metadata": {},
   "outputs": [],
   "source": [
    "# Predicting the Test set results\n",
    "svm_predictions = svm_model.predict(X_test)"
   ]
  },
  {
   "cell_type": "code",
   "execution_count": 43,
   "id": "00f5b38f",
   "metadata": {},
   "outputs": [
    {
     "name": "stdout",
     "output_type": "stream",
     "text": [
      "The r2 score for this SVM model is: 0.3269291262640942\n"
     ]
    }
   ],
   "source": [
    "from sklearn.metrics import r2_score\n",
    "r2_svm=r2_score(y_test, svm_predictions)\n",
    "print('The r2 score for this SVM model is:', r2_svm)\n"
   ]
  },
  {
   "cell_type": "code",
   "execution_count": 44,
   "id": "5d0cb96d",
   "metadata": {},
   "outputs": [],
   "source": [
    "#visualize SVR results: https://www.analyticsvidhya.com/blog/2020/03/support-vector-regression-tutorial-for-machine-learning/\n"
   ]
  },
  {
   "cell_type": "markdown",
   "id": "9765edef",
   "metadata": {},
   "source": [
    "## Decision Tree Regression"
   ]
  },
  {
   "cell_type": "code",
   "execution_count": 45,
   "id": "d870641d",
   "metadata": {},
   "outputs": [
    {
     "data": {
      "text/plain": [
       "DecisionTreeRegressor(random_state=0)"
      ]
     },
     "execution_count": 45,
     "metadata": {},
     "output_type": "execute_result"
    }
   ],
   "source": [
    "# Training the Decision Tree Regression model on the Training set\n",
    "from sklearn.tree import DecisionTreeRegressor\n",
    "dt_model = DecisionTreeRegressor(random_state = 0)\n",
    "dt_model = dt_model.fit(X_train, y_train)\n",
    "dt_model"
   ]
  },
  {
   "cell_type": "code",
   "execution_count": 46,
   "id": "dcac8c38",
   "metadata": {},
   "outputs": [],
   "source": [
    "# Predicting the Test set results\n",
    "dt_predictions = dt_model.predict(X_test)"
   ]
  },
  {
   "cell_type": "code",
   "execution_count": 47,
   "id": "5c8f7df1",
   "metadata": {},
   "outputs": [
    {
     "name": "stdout",
     "output_type": "stream",
     "text": [
      "The r2 score for this Decision Tree model is: 0.5459927750767513\n"
     ]
    }
   ],
   "source": [
    "# Evaluate the performance.\n",
    "from sklearn.metrics import r2_score\n",
    "r2_dt= r2_score(y_test,dt_predictions)\n",
    "print('The r2 score for this Decision Tree model is:', r2_dt)"
   ]
  },
  {
   "cell_type": "markdown",
   "id": "e83c6ab4",
   "metadata": {},
   "source": [
    "## Multiple Linear Regression"
   ]
  },
  {
   "cell_type": "code",
   "execution_count": 48,
   "id": "d27b0f42",
   "metadata": {},
   "outputs": [
    {
     "data": {
      "text/plain": [
       "LinearRegression()"
      ]
     },
     "execution_count": 48,
     "metadata": {},
     "output_type": "execute_result"
    }
   ],
   "source": [
    "# Training the multiple regression model on the Training set\n",
    "from sklearn.linear_model import LinearRegression\n",
    "mlr_model = LinearRegression()\n",
    "mlr_model = mlr_model.fit(X_train, y_train)\n",
    "mlr_model"
   ]
  },
  {
   "cell_type": "code",
   "execution_count": 49,
   "id": "fc6bf38e",
   "metadata": {},
   "outputs": [],
   "source": [
    "# Predicting the Test set results\n",
    "mlr_predictions = mlr_model.predict(X_test)"
   ]
  },
  {
   "cell_type": "code",
   "execution_count": 50,
   "id": "f6507427",
   "metadata": {},
   "outputs": [
    {
     "name": "stdout",
     "output_type": "stream",
     "text": [
      "The r2 score for this Multiple Linear Regression model is: 0.7356161817817657\n"
     ]
    }
   ],
   "source": [
    "# Evaluate the performance.\n",
    "from sklearn.metrics import r2_score\n",
    "r2_mlr= r2_score(y_test,mlr_predictions)\n",
    "print('The r2 score for this Multiple Linear Regression model is:', r2_mlr)"
   ]
  },
  {
   "cell_type": "code",
   "execution_count": null,
   "id": "f4e3462d",
   "metadata": {},
   "outputs": [],
   "source": []
  }
 ],
 "metadata": {
  "kernelspec": {
   "display_name": "mlenv",
   "language": "python",
   "name": "mlenv"
  },
  "language_info": {
   "codemirror_mode": {
    "name": "ipython",
    "version": 3
   },
   "file_extension": ".py",
   "mimetype": "text/x-python",
   "name": "python",
   "nbconvert_exporter": "python",
   "pygments_lexer": "ipython3",
   "version": "3.7.13"
  }
 },
 "nbformat": 4,
 "nbformat_minor": 5
}
